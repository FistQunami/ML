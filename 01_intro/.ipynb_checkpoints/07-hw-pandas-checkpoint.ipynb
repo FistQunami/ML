{
 "cells": [
  {
   "cell_type": "markdown",
   "metadata": {},
   "source": [
    "## Домашняя работа. Pandas\n",
    "\n",
    "1. Скачайте этот ноутбук к себе.\n",
    "2. Заполните пропущенные ячейки, отвечая на заданные вопросы. Там должен быть код! (если не сказано обратное)\n",
    "3. Сохраните результат в своём гитхаб репозитории.\n",
    "\n",
    "#### Полезная литература\n",
    "\n",
    "- http://pandas.pydata.org/pandas-docs/stable/10min.html\n",
    "- https://pandas.pydata.org/pandas-docs/stable/indexing.html\n",
    "- https://pandas.pydata.org/pandas-docs/stable/missing_data.html"
   ]
  },
  {
   "cell_type": "markdown",
   "metadata": {},
   "source": [
    "В этом задании мы с вами рассмотрим датасет [Adult Data Set](https://archive.ics.uci.edu/ml/datasets/Adult).\n",
    "Основывается он на данных переписи населения 1994 года в США.\n",
    "\n",
    "Расшифровка содержимого колонок:\n",
    "\n",
    "- age: continuous. \n",
    "- workclass: Private, Self-emp-not-inc, Self-emp-inc, Federal-gov, Local-gov, State-gov, Without-pay, Never-worked. \n",
    "- fnlwgt: continuous. sampling weight, more here: SIPP Weighting.\n",
    "- education: Bachelors, Some-college, 11th, HS-grad, Prof-school, Assoc-acdm, Assoc-voc, 9th, 7th-8th, 12th, Masters, 1st-4th, 10th, Doctorate, 5th-6th, Preschool. \n",
    "- education-num: continuous. \n",
    "- marital-status: Married-civ-spouse, Divorced, Never-married, Separated, Widowed, Married-spouse-absent, Married-AF-spouse. \n",
    "- occupation: Tech-support, Craft-repair, Other-service, Sales, Exec-managerial, Prof-specialty, Handlers-cleaners, Machine-op-inspct, Adm-clerical, Farming-fishing, Transport-moving, Priv-house-serv, Protective-serv, Armed-Forces. \n",
    "- relationship: Wife, Own-child, Husband, Not-in-family, Other-relative, Unmarried. \n",
    "- race: White, Asian-Pac-Islander, Amer-Indian-Eskimo, Other, Black. \n",
    "- sex: Female, Male. \n",
    "- capital-gain: continuous. Income from investment sources, apart from wages/salary.\n",
    "- capital-loss: continuous. Losses from investment sources, apart from wages/salary.\n",
    "- hours-per-week: continuous. \n",
    "- native-country: United-States, Cambodia, England, Puerto-Rico, Canada, Germany, Outlying-US(Guam-USVI-etc), India, Japan, Greece, South, China, Cuba, Iran, Honduras, Philippines, Italy, Poland, Jamaica, Vietnam, Mexico, Portugal, Ireland, France, Dominican-Republic, Laos, Ecuador, Taiwan, Haiti, Columbia, Hungary, Guatemala, Nicaragua, Scotland, Thailand, Yugoslavia, El-Salvador, Trinadad&Tobago, Peru, Hong, Holand-Netherlands."
   ]
  },
  {
   "cell_type": "code",
   "execution_count": 1,
   "metadata": {},
   "outputs": [
    {
     "data": {
      "text/plain": [
       "'1.4.1'"
      ]
     },
     "execution_count": 1,
     "metadata": {},
     "output_type": "execute_result"
    }
   ],
   "source": [
    "import pandas as pd\n",
    "pd.__version__ # 1.4.1"
   ]
  },
  {
   "cell_type": "code",
   "execution_count": 4,
   "metadata": {},
   "outputs": [
    {
     "data": {
      "text/html": [
       "<div>\n",
       "<style scoped>\n",
       "    .dataframe tbody tr th:only-of-type {\n",
       "        vertical-align: middle;\n",
       "    }\n",
       "\n",
       "    .dataframe tbody tr th {\n",
       "        vertical-align: top;\n",
       "    }\n",
       "\n",
       "    .dataframe thead th {\n",
       "        text-align: right;\n",
       "    }\n",
       "</style>\n",
       "<table border=\"1\" class=\"dataframe\">\n",
       "  <thead>\n",
       "    <tr style=\"text-align: right;\">\n",
       "      <th></th>\n",
       "      <th>age</th>\n",
       "      <th>workclass</th>\n",
       "      <th>fnlwgt</th>\n",
       "      <th>education</th>\n",
       "      <th>education.num</th>\n",
       "      <th>marital.status</th>\n",
       "      <th>occupation</th>\n",
       "      <th>relationship</th>\n",
       "      <th>race</th>\n",
       "      <th>sex</th>\n",
       "      <th>capital.gain</th>\n",
       "      <th>capital.loss</th>\n",
       "      <th>hours.per.week</th>\n",
       "      <th>native.country</th>\n",
       "      <th>income</th>\n",
       "    </tr>\n",
       "  </thead>\n",
       "  <tbody>\n",
       "    <tr>\n",
       "      <th>0</th>\n",
       "      <td>90</td>\n",
       "      <td>NaN</td>\n",
       "      <td>77053</td>\n",
       "      <td>HS-grad</td>\n",
       "      <td>9</td>\n",
       "      <td>Widowed</td>\n",
       "      <td>NaN</td>\n",
       "      <td>Not-in-family</td>\n",
       "      <td>White</td>\n",
       "      <td>Female</td>\n",
       "      <td>0</td>\n",
       "      <td>4356</td>\n",
       "      <td>40</td>\n",
       "      <td>United-States</td>\n",
       "      <td>&lt;=50K</td>\n",
       "    </tr>\n",
       "    <tr>\n",
       "      <th>1</th>\n",
       "      <td>82</td>\n",
       "      <td>Private</td>\n",
       "      <td>132870</td>\n",
       "      <td>HS-grad</td>\n",
       "      <td>9</td>\n",
       "      <td>Widowed</td>\n",
       "      <td>Exec-managerial</td>\n",
       "      <td>Not-in-family</td>\n",
       "      <td>White</td>\n",
       "      <td>Female</td>\n",
       "      <td>0</td>\n",
       "      <td>4356</td>\n",
       "      <td>18</td>\n",
       "      <td>United-States</td>\n",
       "      <td>&lt;=50K</td>\n",
       "    </tr>\n",
       "    <tr>\n",
       "      <th>2</th>\n",
       "      <td>66</td>\n",
       "      <td>NaN</td>\n",
       "      <td>186061</td>\n",
       "      <td>Some-college</td>\n",
       "      <td>10</td>\n",
       "      <td>Widowed</td>\n",
       "      <td>NaN</td>\n",
       "      <td>Unmarried</td>\n",
       "      <td>Black</td>\n",
       "      <td>Female</td>\n",
       "      <td>0</td>\n",
       "      <td>4356</td>\n",
       "      <td>40</td>\n",
       "      <td>United-States</td>\n",
       "      <td>&lt;=50K</td>\n",
       "    </tr>\n",
       "    <tr>\n",
       "      <th>3</th>\n",
       "      <td>54</td>\n",
       "      <td>Private</td>\n",
       "      <td>140359</td>\n",
       "      <td>7th-8th</td>\n",
       "      <td>4</td>\n",
       "      <td>Divorced</td>\n",
       "      <td>Machine-op-inspct</td>\n",
       "      <td>Unmarried</td>\n",
       "      <td>White</td>\n",
       "      <td>Female</td>\n",
       "      <td>0</td>\n",
       "      <td>3900</td>\n",
       "      <td>40</td>\n",
       "      <td>United-States</td>\n",
       "      <td>&lt;=50K</td>\n",
       "    </tr>\n",
       "    <tr>\n",
       "      <th>4</th>\n",
       "      <td>41</td>\n",
       "      <td>Private</td>\n",
       "      <td>264663</td>\n",
       "      <td>Some-college</td>\n",
       "      <td>10</td>\n",
       "      <td>Separated</td>\n",
       "      <td>Prof-specialty</td>\n",
       "      <td>Own-child</td>\n",
       "      <td>White</td>\n",
       "      <td>Female</td>\n",
       "      <td>0</td>\n",
       "      <td>3900</td>\n",
       "      <td>40</td>\n",
       "      <td>United-States</td>\n",
       "      <td>&lt;=50K</td>\n",
       "    </tr>\n",
       "  </tbody>\n",
       "</table>\n",
       "</div>"
      ],
      "text/plain": [
       "   age workclass  fnlwgt     education  education.num marital.status  \\\n",
       "0   90       NaN   77053       HS-grad              9        Widowed   \n",
       "1   82   Private  132870       HS-grad              9        Widowed   \n",
       "2   66       NaN  186061  Some-college             10        Widowed   \n",
       "3   54   Private  140359       7th-8th              4       Divorced   \n",
       "4   41   Private  264663  Some-college             10      Separated   \n",
       "\n",
       "          occupation   relationship   race     sex  capital.gain  \\\n",
       "0                NaN  Not-in-family  White  Female             0   \n",
       "1    Exec-managerial  Not-in-family  White  Female             0   \n",
       "2                NaN      Unmarried  Black  Female             0   \n",
       "3  Machine-op-inspct      Unmarried  White  Female             0   \n",
       "4     Prof-specialty      Own-child  White  Female             0   \n",
       "\n",
       "   capital.loss  hours.per.week native.country income  \n",
       "0          4356              40  United-States  <=50K  \n",
       "1          4356              18  United-States  <=50K  \n",
       "2          4356              40  United-States  <=50K  \n",
       "3          3900              40  United-States  <=50K  \n",
       "4          3900              40  United-States  <=50K  "
      ]
     },
     "execution_count": 4,
     "metadata": {},
     "output_type": "execute_result"
    }
   ],
   "source": [
    "columns='age,workclass,fnlwgt,education,education.num,marital.status,occupation,relationship,race,sex,capital.gain,capital.loss,hours.per.week,native.country,income'.split(',')\n",
    "df = pd.read_csv('data/adult.csv.gz', na_values='?') # можно загрузить из файла или URL\n",
    "# df = pd.read_csv('https://archive.ics.uci.edu/ml/machine-learning-databases/adult/adult.data', na_values='?', names=columns)\n",
    "df.head()"
   ]
  },
  {
   "cell_type": "markdown",
   "metadata": {},
   "source": [
    "1) Выведите последние 10 элеметнов датасета"
   ]
  },
  {
   "cell_type": "code",
   "execution_count": 4,
   "metadata": {},
   "outputs": [
    {
     "name": "stdout",
     "output_type": "stream",
     "text": [
      "       age         workclass  fnlwgt     education  education.num  \\\n",
      "32551   43  Self-emp-not-inc   27242  Some-college             10   \n",
      "32552   32           Private   34066          10th              6   \n",
      "32553   43           Private   84661     Assoc-voc             11   \n",
      "32554   32           Private  116138       Masters             14   \n",
      "32555   53           Private  321865       Masters             14   \n",
      "32556   22           Private  310152  Some-college             10   \n",
      "32557   27           Private  257302    Assoc-acdm             12   \n",
      "32558   40           Private  154374       HS-grad              9   \n",
      "32559   58           Private  151910       HS-grad              9   \n",
      "32560   22           Private  201490       HS-grad              9   \n",
      "\n",
      "           marital.status         occupation   relationship  \\\n",
      "32551  Married-civ-spouse       Craft-repair        Husband   \n",
      "32552  Married-civ-spouse  Handlers-cleaners        Husband   \n",
      "32553  Married-civ-spouse              Sales        Husband   \n",
      "32554       Never-married       Tech-support  Not-in-family   \n",
      "32555  Married-civ-spouse    Exec-managerial        Husband   \n",
      "32556       Never-married    Protective-serv  Not-in-family   \n",
      "32557  Married-civ-spouse       Tech-support           Wife   \n",
      "32558  Married-civ-spouse  Machine-op-inspct        Husband   \n",
      "32559             Widowed       Adm-clerical      Unmarried   \n",
      "32560       Never-married       Adm-clerical      Own-child   \n",
      "\n",
      "                     race     sex  capital.gain  capital.loss  hours.per.week  \\\n",
      "32551               White    Male             0             0              50   \n",
      "32552  Amer-Indian-Eskimo    Male             0             0              40   \n",
      "32553               White    Male             0             0              45   \n",
      "32554  Asian-Pac-Islander    Male             0             0              11   \n",
      "32555               White    Male             0             0              40   \n",
      "32556               White    Male             0             0              40   \n",
      "32557               White  Female             0             0              38   \n",
      "32558               White    Male             0             0              40   \n",
      "32559               White  Female             0             0              40   \n",
      "32560               White    Male             0             0              20   \n",
      "\n",
      "      native.country income  \n",
      "32551  United-States  <=50K  \n",
      "32552  United-States  <=50K  \n",
      "32553  United-States  <=50K  \n",
      "32554         Taiwan  <=50K  \n",
      "32555  United-States   >50K  \n",
      "32556  United-States  <=50K  \n",
      "32557  United-States  <=50K  \n",
      "32558  United-States   >50K  \n",
      "32559  United-States  <=50K  \n",
      "32560  United-States  <=50K  \n"
     ]
    }
   ],
   "source": [
    "import pandas as pd\n",
    "\n",
    "print(df.tail(10))"
   ]
  },
  {
   "cell_type": "markdown",
   "metadata": {},
   "source": [
    "2) Сколько колонок и сколько строк в этом датасете?"
   ]
  },
  {
   "cell_type": "code",
   "execution_count": 16,
   "metadata": {},
   "outputs": [
    {
     "name": "stdout",
     "output_type": "stream",
     "text": [
      "Количество строк: 32561\n",
      "Количество колонок: 19\n"
     ]
    }
   ],
   "source": [
    "num_rows, num_columns = df.shape\n",
    "print(f\"Количество строк: {num_rows}\")\n",
    "print(f\"Количество колонок: {num_columns}\")"
   ]
  },
  {
   "cell_type": "markdown",
   "metadata": {},
   "source": [
    "3) Какие типы данных у элементов этого датасета?"
   ]
  },
  {
   "cell_type": "code",
   "execution_count": 22,
   "metadata": {},
   "outputs": [
    {
     "name": "stdout",
     "output_type": "stream",
     "text": [
      "age                      int64\n",
      "workclass               object\n",
      "fnlwgt                   int64\n",
      "education               object\n",
      "education.num            int64\n",
      "marital.status          object\n",
      "occupation              object\n",
      "relationship            object\n",
      "race                    object\n",
      "sex                     object\n",
      "capital.gain             int64\n",
      "capital.loss             int64\n",
      "hours.per.week           int64\n",
      "native.country          object\n",
      "income                  object\n",
      "capital_diff             int64\n",
      "magic_salary             int64\n",
      "hourly_magic_salary    float64\n",
      "capital_category         int64\n",
      "dtype: object\n"
     ]
    }
   ],
   "source": [
    "data_types = df.dtypes\n",
    "print(data_types)"
   ]
  },
  {
   "cell_type": "markdown",
   "metadata": {},
   "source": [
    "4) Какие признаки имеют пропуски?"
   ]
  },
  {
   "cell_type": "code",
   "execution_count": 23,
   "metadata": {},
   "outputs": [
    {
     "name": "stdout",
     "output_type": "stream",
     "text": [
      "workclass         1836\n",
      "occupation        1843\n",
      "native.country     583\n",
      "dtype: int64\n"
     ]
    }
   ],
   "source": [
    "missing_values = df.isnull().sum()\n",
    "print(missing_values[missing_values > 0])"
   ]
  },
  {
   "cell_type": "markdown",
   "metadata": {},
   "source": [
    "5) Как вы думаете, с чем связаны пропуски этих значение. Напишите развернутый ответ в ячейке ниже."
   ]
  },
  {
   "cell_type": "markdown",
   "metadata": {},
   "source": [
    "Ваш ответ: Пропуски могут возникнуть из-за различных факторов: как объективных (например, отсутствие работы), так и субъективных (нежелание раскрывать личную информацию)."
   ]
  },
  {
   "cell_type": "markdown",
   "metadata": {},
   "source": [
    "6) Какие и сколько различных рабочих классов workclass представлено в выборке?"
   ]
  },
  {
   "cell_type": "code",
   "execution_count": 17,
   "metadata": {},
   "outputs": [
    {
     "name": "stdout",
     "output_type": "stream",
     "text": [
      "workclass\n",
      "Private             22696\n",
      "Self-emp-not-inc     2541\n",
      "Local-gov            2093\n",
      "NaN                  1836\n",
      "State-gov            1298\n",
      "Self-emp-inc         1116\n",
      "Federal-gov           960\n",
      "Without-pay            14\n",
      "Never-worked            7\n",
      "Name: count, dtype: int64\n"
     ]
    }
   ],
   "source": [
    "workclass_counts = df['workclass'].value_counts(dropna=False)  # Также учитываем пропущенные значения\n",
    "print(workclass_counts)"
   ]
  },
  {
   "cell_type": "markdown",
   "metadata": {},
   "source": [
    "7) Какой средний возраст женщин и мужчин?"
   ]
  },
  {
   "cell_type": "code",
   "execution_count": 18,
   "metadata": {},
   "outputs": [
    {
     "name": "stdout",
     "output_type": "stream",
     "text": [
      "sex\n",
      "Female    36.858230\n",
      "Male      39.433547\n",
      "Name: age, dtype: float64\n"
     ]
    }
   ],
   "source": [
    "avg_age_by_sex = df.groupby('sex')['age'].mean()\n",
    "print(avg_age_by_sex)"
   ]
  },
  {
   "cell_type": "markdown",
   "metadata": {},
   "source": [
    "8) Постройте гистограмму(bar) распределения образования людей (education)"
   ]
  },
  {
   "cell_type": "code",
   "execution_count": 19,
   "metadata": {},
   "outputs": [
    {
     "data": {
      "image/png": "[encoded data removed]",
      "text/plain": [
       "<Figure size 1000x600 with 1 Axes>"
      ]
     },
     "metadata": {},
     "output_type": "display_data"
    }
   ],
   "source": [
    "import matplotlib.pyplot as plt\n",
    "\n",
    "education_counts = df['education'].value_counts()\n",
    "\n",
    "plt.figure(figsize=(10, 6))\n",
    "education_counts.plot(kind='bar')\n",
    "plt.title('Распределение уровня образования')\n",
    "plt.xlabel('Образование')\n",
    "plt.ylabel('Количество людей')\n",
    "plt.xticks(rotation=45)\n",
    "plt.show()"
   ]
  },
  {
   "cell_type": "markdown",
   "metadata": {},
   "source": [
    "9) Каковы средние значения и среднеквадратичные отклонения возраста тех, кто получает более 50K в год (признак salary) и тех, кто получает менее 50K в год?"
   ]
  },
  {
   "cell_type": "code",
   "execution_count": 20,
   "metadata": {},
   "outputs": [
    {
     "name": "stdout",
     "output_type": "stream",
     "text": [
      "Средний возраст для дохода >50K: 44.25, стандартное отклонение: 10.52\n",
      "Средний возраст для дохода <=50K: 36.78, стандартное отклонение: 14.02\n"
     ]
    }
   ],
   "source": [
    "high_income = df[df['income'] == '>50K']['age']\n",
    "low_income = df[df['income'] == '<=50K']['age']\n",
    "\n",
    "high_income_mean = high_income.mean()\n",
    "low_income_mean = low_income.mean()\n",
    "\n",
    "high_income_std = high_income.std()\n",
    "low_income_std = low_income.std()\n",
    "\n",
    "print(f\"Средний возраст для дохода >50K: {high_income_mean:.2f}, стандартное отклонение: {high_income_std:.2f}\")\n",
    "print(f\"Средний возраст для дохода <=50K: {low_income_mean:.2f}, стандартное отклонение: {low_income_std:.2f}\")\n"
   ]
  },
  {
   "cell_type": "markdown",
   "metadata": {},
   "source": [
    "10) Правда ли, что люди, которые получают больше 50k, имеют как минимум высшее образование? (признак education - Bachelors, Prof-school, Assoc-acdm, Assoc-voc, Masters или Doctorate)"
   ]
  },
  {
   "cell_type": "code",
   "execution_count": 21,
   "metadata": {},
   "outputs": [
    {
     "name": "stdout",
     "output_type": "stream",
     "text": [
      "Есть люди с доходом >50K без высшего образования.\n"
     ]
    }
   ],
   "source": [
    "higher_education = ['Bachelors', 'Prof-school', 'Assoc-acdm', 'Assoc-voc', 'Masters', 'Doctorate']\n",
    "\n",
    "high_income_people = df[df['income'] == '>50K']\n",
    "\n",
    "non_higher_education_high_income = high_income_people[~high_income_people['education'].isin(higher_education)]\n",
    "\n",
    "if non_higher_education_high_income.empty:\n",
    "    print(\"Все люди с доходом >50K имеют как минимум высшее образование.\")\n",
    "else:\n",
    "    print(\"Есть люди с доходом >50K без высшего образования.\")\n"
   ]
  },
  {
   "cell_type": "markdown",
   "metadata": {},
   "source": [
    "11) Среди кого больше доля зарабатывающих много (>50K): среди женатых или холостых мужчин (признак marital-status)? Женатыми считаем тех, у кого marital-status начинается с Married (Married-civ-spouse, Married-spouse-absent или Married-AF-spouse), остальных считаем холостыми."
   ]
  },
  {
   "cell_type": "code",
   "execution_count": 5,
   "metadata": {},
   "outputs": [
    {
     "name": "stdout",
     "output_type": "stream",
     "text": [
      "Доля женатых мужчин с доходом >50K: 44.05%\n",
      "Доля холостых мужчин с доходом >50K: 8.45%\n"
     ]
    }
   ],
   "source": [
    "men = df[df['sex'] == 'Male']\n",
    "\n",
    "married_men = men[men['marital.status'].str.startswith('Married')]\n",
    "single_men = men[~men['marital.status'].str.startswith('Married')]\n",
    "\n",
    "married_high_income = married_men[married_men['income'] == '>50K'].shape[0] / married_men.shape[0]\n",
    "single_high_income = single_men[single_men['income'] == '>50K'].shape[0] / single_men.shape[0]\n",
    "\n",
    "print(f\"Доля женатых мужчин с доходом >50K: {married_high_income * 100:.2f}%\")\n",
    "print(f\"Доля холостых мужчин с доходом >50K: {single_high_income * 100:.2f}%\")\n"
   ]
  },
  {
   "cell_type": "markdown",
   "metadata": {},
   "source": [
    "12) Посчитайте среднее время работы (hours-per-week) зарабатывающих мало и много (salary) для каждой страны (native-country)."
   ]
  },
  {
   "cell_type": "code",
   "execution_count": 7,
   "metadata": {},
   "outputs": [
    {
     "name": "stdout",
     "output_type": "stream",
     "text": [
      "income                          <=50K       >50K\n",
      "native.country                                  \n",
      "Cambodia                    41.416667  40.000000\n",
      "Canada                      37.914634  45.641026\n",
      "China                       37.381818  38.900000\n",
      "Columbia                    38.684211  50.000000\n",
      "Cuba                        37.985714  42.440000\n",
      "Dominican-Republic          42.338235  47.000000\n",
      "Ecuador                     38.041667  48.750000\n",
      "El-Salvador                 36.030928  45.000000\n",
      "England                     40.483333  44.533333\n",
      "France                      41.058824  50.750000\n",
      "Germany                     39.139785  44.977273\n",
      "Greece                      41.809524  50.625000\n",
      "Guatemala                   39.360656  36.666667\n",
      "Haiti                       36.325000  42.750000\n",
      "Holand-Netherlands          40.000000        NaN\n",
      "Honduras                    34.333333  60.000000\n",
      "Hong                        39.142857  45.000000\n",
      "Hungary                     31.300000  50.000000\n",
      "India                       38.233333  46.475000\n",
      "Iran                        41.440000  47.500000\n",
      "Ireland                     40.947368  48.000000\n",
      "Italy                       39.625000  45.400000\n",
      "Jamaica                     38.239437  41.100000\n",
      "Japan                       41.000000  47.958333\n",
      "Laos                        40.375000  40.000000\n",
      "Mexico                      40.003279  46.575758\n",
      "Nicaragua                   36.093750  37.500000\n",
      "Outlying-US(Guam-USVI-etc)  41.857143        NaN\n",
      "Peru                        35.068966  40.000000\n",
      "Philippines                 38.065693  43.032787\n",
      "Poland                      38.166667  39.000000\n",
      "Portugal                    41.939394  41.500000\n",
      "Puerto-Rico                 38.470588  39.416667\n",
      "Scotland                    39.444444  46.666667\n",
      "South                       40.156250  51.437500\n",
      "Taiwan                      33.774194  46.800000\n",
      "Thailand                    42.866667  58.333333\n",
      "Trinadad&Tobago             37.058824  40.000000\n",
      "United-States               38.799127  45.505369\n",
      "Vietnam                     37.193548  39.200000\n",
      "Yugoslavia                  41.600000  49.500000\n"
     ]
    }
   ],
   "source": [
    "avg_hours_per_country = df.groupby(['native.country', 'income'])['hours.per.week'].mean().unstack()\n",
    "print(avg_hours_per_country)"
   ]
  },
  {
   "cell_type": "markdown",
   "metadata": {},
   "source": [
    "13) Постройте сводную таблицу для сравнения уровня образования и разницы между capital.gain и capital.loss (то есть пассивный доход). Сделайте так, чтобы capital.gain - capital.loss создали не больше 10 разных уникальных значений. То есть, gain и loss - это числа в каком-то диапазоне. Это количественные признаки из вещественных чисел. С помощью математических функций, типа log, извлечение корня N-ой степени и округления можно перейти к категориальным признакам."
   ]
  },
  {
   "cell_type": "code",
   "execution_count": 12,
   "metadata": {},
   "outputs": [
    {
     "name": "stdout",
     "output_type": "stream",
     "text": [
      "capital_category           0             1\n",
      "education                                 \n",
      "10th              -59.391937   9436.700000\n",
      "11th              -52.444742   4768.679245\n",
      "12th              -34.068127   5591.363636\n",
      "1st-4th           -49.809816   4229.400000\n",
      "5th-6th           -71.247649   4186.785714\n",
      "7th-8th           -70.119008   3685.975610\n",
      "9th               -30.859213   5672.064516\n",
      "Assoc-acdm       -101.195939   8333.000000\n",
      "Assoc-voc         -80.566506   7374.634328\n",
      "Bachelors        -134.215587  14857.794629\n",
      "Doctorate        -322.121662  25921.973684\n",
      "HS-grad           -75.368711   8868.196193\n",
      "Masters          -198.245687  16114.222628\n",
      "Preschool         -69.204082  22909.000000\n",
      "Prof-school      -311.880562  40259.758389\n",
      "Some-college      -76.606923   9230.501057\n"
     ]
    }
   ],
   "source": [
    "df['capital_diff'] = df['capital.gain'] - df['capital.loss']\n",
    "\n",
    "df['capital_category'] = pd.qcut(df['capital_diff'], 10, labels=False, duplicates='drop')\n",
    "\n",
    "pivot_table = pd.pivot_table(df, values='capital_diff', index='education', columns='capital_category', aggfunc='mean')\n",
    "\n",
    "print(pivot_table)"
   ]
  },
  {
   "cell_type": "markdown",
   "metadata": {},
   "source": [
    "14) Женщины из каких стран получают в среднем большую зарплату (>50K) чаще."
   ]
  },
  {
   "cell_type": "code",
   "execution_count": 14,
   "metadata": {},
   "outputs": [
    {
     "name": "stdout",
     "output_type": "stream",
     "text": [
      "native.country\n",
      "United-States         0.922547\n",
      "Philippines           0.010327\n",
      "Canada                0.007745\n",
      "Germany               0.006024\n",
      "England               0.005164\n",
      "Italy                 0.004303\n",
      "China                 0.004303\n",
      "Japan                 0.004303\n",
      "Taiwan                0.003442\n",
      "France                0.002582\n",
      "South                 0.002582\n",
      "Cuba                  0.002582\n",
      "India                 0.001721\n",
      "Portugal              0.001721\n",
      "Poland                0.001721\n",
      "Dominican-Republic    0.001721\n",
      "Iran                  0.001721\n",
      "Mexico                0.001721\n",
      "Puerto-Rico           0.001721\n",
      "Scotland              0.000861\n",
      "Honduras              0.000861\n",
      "Vietnam               0.000861\n",
      "Jamaica               0.000861\n",
      "Thailand              0.000861\n",
      "Ireland               0.000861\n",
      "Yugoslavia            0.000861\n",
      "El-Salvador           0.000861\n",
      "Hungary               0.000861\n",
      "Nicaragua             0.000861\n",
      "Greece                0.000861\n",
      "Hong                  0.000861\n",
      "Laos                  0.000861\n",
      "Haiti                 0.000861\n",
      "Name: proportion, dtype: float64\n"
     ]
    }
   ],
   "source": [
    "women = df[df['sex'] == 'Female']\n",
    "\n",
    "high_income_women_by_country = women[women['income'] == '>50K']['native.country'].value_counts(normalize=True)\n",
    "print(high_income_women_by_country)"
   ]
  },
  {
   "cell_type": "markdown",
   "metadata": {},
   "source": [
    "15) Создайте случайную колонку - magic_salary, которую нужно будет вычислить следующим образом: если зарплата небольшая (<50K), тогда случайно выберите число из диапазона [0,50]. Если зарплата выше 50K тогда из диапазона [51, 200]. Посчитайте среднюю зарплату в час для групп людей с одни уровнем образования на основе нашей случайной колонки magic_salary"
   ]
  },
  {
   "cell_type": "code",
   "execution_count": 10,
   "metadata": {},
   "outputs": [
    {
     "name": "stdout",
     "output_type": "stream",
     "text": [
      "education\n",
      "10th            1.131355\n",
      "11th            1.144376\n",
      "12th            0.969125\n",
      "1st-4th         0.836173\n",
      "5th-6th         0.901844\n",
      "7th-8th         1.039533\n",
      "9th             0.929080\n",
      "Assoc-acdm      1.565818\n",
      "Assoc-voc       1.355232\n",
      "Bachelors       1.698106\n",
      "Doctorate       2.902975\n",
      "HS-grad         1.117317\n",
      "Masters         2.227499\n",
      "Preschool       1.094177\n",
      "Prof-school     2.283774\n",
      "Some-college    1.280359\n",
      "Name: hourly_magic_salary, dtype: float64\n"
     ]
    }
   ],
   "source": [
    "import numpy as np\n",
    "\n",
    "np.random.seed(0)\n",
    "df['magic_salary'] = df['income'].apply(lambda x: np.random.randint(0, 51) if x == '<=50K' else np.random.randint(51, 201))\n",
    "\n",
    "df['hourly_magic_salary'] = df['magic_salary'] / df['hours.per.week']\n",
    "\n",
    "avg_salary_by_education = df.groupby('education')['hourly_magic_salary'].mean()\n",
    "print(avg_salary_by_education)"
   ]
  },
  {
   "cell_type": "code",
   "execution_count": null,
   "metadata": {},
   "outputs": [],
   "source": []
  }
 ],
 "metadata": {
  "kernelspec": {
   "display_name": "Python 3 (ipykernel)",
   "language": "python",
   "name": "python3"
  },
  "language_info": {
   "codemirror_mode": {
    "name": "ipython",
    "version": 3
   },
   "file_extension": ".py",
   "mimetype": "text/x-python",
   "name": "python",
   "nbconvert_exporter": "python",
   "pygments_lexer": "ipython3",
   "version": "3.12.4"
  }
 },
 "nbformat": 4,
 "nbformat_minor": 4
}
